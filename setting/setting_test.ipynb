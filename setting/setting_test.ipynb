{
 "cells": [
  {
   "cell_type": "markdown",
   "id": "engaging-gates",
   "metadata": {
    "pycharm": {
     "name": "#%% md\n"
    }
   },
   "source": [
    "## GPU 드라이버 확인"
   ]
  },
  {
   "cell_type": "code",
   "execution_count": null,
   "outputs": [],
   "source": [
    "from platform import python_version\n",
    "import sys\n",
    "import site\n",
    "import numpy as np\n",
    "import mmcv \n",
    "\n",
    "print('python version :' ,python_version())\n",
    "print('interpreter path :' , sys.executable)\n",
    "print('site-package path :' , site.getsitepackages())\n",
    "print('numpy version :' , np.__version__)\n",
    "print('mmcv version :' , mmcv.__version__)"
   ],
   "metadata": {
    "collapsed": false,
    "pycharm": {
     "name": "#%%\n"
    }
   }
  },
  {
   "cell_type": "markdown",
   "source": [
    "## DL framework"
   ],
   "metadata": {
    "collapsed": false,
    "pycharm": {
     "name": "#%% md\n"
    }
   }
  },
  {
   "cell_type": "code",
   "execution_count": null,
   "outputs": [],
   "source": [
    "import tensorflow as tf\n",
    "import torch\n",
    "\n",
    "## tensorflow \n",
    "print(f'tf.__version__: {tf.__version__}')\n",
    "gpu_devices = tf.config.experimental.list_physical_devices('GPU')\n",
    "for device in gpu_devices:\n",
    "    tf.config.experimental.set_memory_growth(device, True)\n",
    "gpus = tf.config.experimental.list_physical_devices('GPU')\n",
    "print(gpus)\n",
    "\n",
    "## torch\n",
    "print(f'torch.__version__: {torch.__version__}')\n",
    "print(f'GPU 사용여부: {torch.cuda.is_available()}')\n",
    "gpu_count = torch.cuda.device_count()\n",
    "print(f'GPU count: {gpu_count}')\n",
    "if gpu_count > 0:\n",
    "    print(f'GPU name: {torch.cuda.get_device_name(0)}')"
   ],
   "metadata": {
    "collapsed": false,
    "pycharm": {
     "name": "#%%\n"
    }
   }
  },
  {
   "cell_type": "markdown",
   "source": [
    "# GPU 셋팅 관련 코드"
   ],
   "metadata": {
    "collapsed": false,
    "pycharm": {
     "name": "#%% md\n"
    }
   }
  },
  {
   "cell_type": "code",
   "execution_count": null,
   "outputs": [],
   "source": [
    "import os\n",
    "\n",
    "# cuda가 사용 가능한 지 확인\n",
    "torch.cuda.is_available()\n",
    "\n",
    "# cuda가 사용 가능하면 device에 \"cuda\"를 저장하고 사용 가능하지 않으면 \"cpu\"를 저장한다.\n",
    "device = torch.device(\"cuda\" if torch.cuda.is_available() else \"cpu\")\n",
    "\n",
    "# 멀티 GPU 사용 시 사용 가능한 GPU 셋팅 관련\n",
    "# 아래 코드의 \"0,1,2\"는 GPU가 3개 있고 그 번호가 0, 1, 2 인 상황의 예제입니다.\n",
    "# 만약 GPU가 5개이고 사용 가능한 것이 0, 3, 4 라면 \"0,3,4\" 라고 적으면 됩니다.\n",
    "os.environ[\"CUDA_VISIBLE_DEVICES\"] = \"0,1,2\"\n",
    "\n",
    "# 현재 PC의 사용가능한 GPU 사용 갯수 확인\n",
    "torch.cuda.device_count()\n",
    "\n",
    "# 사용 가능한 device 갯수에 맞춰서 0번 부터 GPU 할당\n",
    "os.environ[\"CUDA_VISIBLE_DEVICES\"] = \",\".join(list(map(str, list(range(torch.cuda.device_count())))))\n",
    "\n",
    "# cudnn을 사용하도록 설정. GPU를 사용하고 있으면 기본값은 True 입니다.\n",
    "import torch.backends.cudnn as cudnn\n",
    "cudnn.enabled = True\n",
    "\n",
    "# inbuilt cudnn auto-tuner가 사용 중인 hardware에 가장 적합한 알고리즘을 선택하도록 허용합니다.\n",
    "cudnn.benchmark = True"
   ],
   "metadata": {
    "collapsed": false,
    "pycharm": {
     "name": "#%%\n"
    }
   }
  },
  {
   "cell_type": "code",
   "execution_count": null,
   "outputs": [],
   "source": [
    "# unit : byte\n",
    "torch.cuda.get_device_properties(\"cuda:0\").total_memory\n",
    "\n",
    "# unit : mega byte\n",
    "torch.cuda.get_device_properties(\"cuda:0\").total_memory // 1e6\n",
    "\n",
    "# unit : giga byte\n",
    "torch.cuda.get_device_properties(\"cuda:0\").total_memory // 1e9"
   ],
   "metadata": {
    "collapsed": false,
    "pycharm": {
     "name": "#%%\n"
    }
   }
  },
  {
   "cell_type": "code",
   "execution_count": null,
   "outputs": [],
   "source": [
    "gpu_ids = list(map(str, list(range(torch.cuda.device_count()))))\n",
    "total_gpu_memory = 0\n",
    "for gpu_id in gpu_ids:\n",
    "    total_gpu_memory += torch.cuda.get_device_properties(\"cuda:\" + gpu_id).total_memory"
   ],
   "metadata": {
    "collapsed": false,
    "pycharm": {
     "name": "#%%\n"
    }
   }
  },
  {
   "cell_type": "markdown",
   "source": [
    "# 재현성 검증"
   ],
   "metadata": {
    "collapsed": false,
    "pycharm": {
     "name": "#%% md\n"
    }
   }
  },
  {
   "cell_type": "code",
   "execution_count": null,
   "outputs": [],
   "source": [
    "import random\n",
    "\n",
    "seed=1\n",
    "torch.manual_seed(seed)\n",
    "np.random.seed(seed)\n",
    "random.seed(seed)\n",
    "torch.cuda.manual_seed(seed)\n",
    "torch.cuda.manual_seed_all(seed)\n",
    "torch.backends.cudnn.benchmark = False\n",
    "torch.backends.cudnn.deterministic = True"
   ],
   "metadata": {
    "collapsed": false,
    "pycharm": {
     "name": "#%%\n"
    }
   }
  },
  {
   "cell_type": "markdown",
   "source": [
    "## 한글 자연어 처리 패키지"
   ],
   "metadata": {
    "collapsed": false,
    "pycharm": {
     "name": "#%% md\n"
    }
   }
  },
  {
   "cell_type": "markdown",
   "source": [
    "## 머신러닝 패키지 확인"
   ],
   "metadata": {
    "collapsed": false,
    "pycharm": {
     "name": "#%% md\n"
    }
   }
  },
  {
   "cell_type": "code",
   "execution_count": null,
   "outputs": [],
   "source": [
    "import sklearn\n",
    "import lightgbm\n",
    "import xgboost\n",
    "\n",
    "print(f'lightgbm: {lightgbm.__version__}\\nxgboost: {xgboost.__version__}\\nsklearn: {sklearn.__version__}')"
   ],
   "metadata": {
    "collapsed": false,
    "pycharm": {
     "name": "#%%\n"
    }
   }
  },
  {
   "cell_type": "markdown",
   "source": [
    "## 한글 폰트 시각화 확인"
   ],
   "metadata": {
    "collapsed": false,
    "pycharm": {
     "name": "#%% md\n"
    }
   }
  },
  {
   "cell_type": "code",
   "execution_count": null,
   "outputs": [],
   "source": [
    "import matplotlib\n",
    "import matplotlib.pyplot as plt\n",
    "import pandas as pd\n",
    "\n",
    "print(f'matplotlib: {matplotlib.__version__}')\n",
    "print(f'pandas: {pd.__version__}')\n",
    "\n",
    "# Unicode warning 제거 (폰트 관련 경고메시지)\n",
    "plt.rcParams['axes.unicode_minus']=False\n",
    "\n",
    "# 그래프 출력 사이즈 설정\n",
    "plt.rcParams[\"figure.figsize\"] = (10, 6)"
   ],
   "metadata": {
    "collapsed": false,
    "pycharm": {
     "name": "#%%\n"
    }
   }
  },
  {
   "cell_type": "code",
   "execution_count": null,
   "outputs": [],
   "source": [
    "import matplotlib\n",
    "import matplotlib.font_manager\n",
    "\n",
    "[f.name for f in matplotlib.font_manager.fontManager.ttflist if 'Nanum' in f.name]"
   ],
   "metadata": {
    "collapsed": false,
    "pycharm": {
     "name": "#%%\n"
    }
   }
  },
  {
   "cell_type": "code",
   "execution_count": null,
   "outputs": [],
   "source": [
    "# NanumGothic\n",
    "plt.rcParams['font.family'] = \"NanumGothic\"\n",
    "data = {\n",
    "    '한글테스트': [10, 20, 30, 40, 50]\n",
    "}\n",
    "pd.DataFrame(data).plot(kind='bar')\n",
    "plt.title('한글 폰트 테스트', fontsize=15)\n",
    "plt.show()"
   ],
   "metadata": {
    "collapsed": false,
    "pycharm": {
     "name": "#%%\n"
    }
   }
  },
  {
   "cell_type": "code",
   "execution_count": null,
   "outputs": [],
   "source": [
    "# NanumSquare\n",
    "plt.rcParams['font.family'] = \"NanumSquare\"\n",
    "data = {\n",
    "    '한글테스트': [10, 20, 30, 40, 50]\n",
    "}\n",
    "pd.DataFrame(data).plot(kind='bar')\n",
    "plt.title('한글 폰트 테스트', fontsize=15)\n",
    "plt.show()"
   ],
   "metadata": {
    "collapsed": false,
    "pycharm": {
     "name": "#%%\n"
    }
   }
  },
  {
   "cell_type": "markdown",
   "source": [
    "## XGBoost CPU & GPU 학습시간 비교"
   ],
   "metadata": {
    "collapsed": false,
    "pycharm": {
     "name": "#%% md\n"
    }
   }
  },
  {
   "cell_type": "code",
   "execution_count": null,
   "outputs": [],
   "source": [
    "import time\n",
    "from sklearn.datasets import make_regression\n",
    "from xgboost import XGBRegressor\n",
    "\n",
    "def model_test(model_name, model):\n",
    "    x, y = make_regression(n_samples=100000, n_features=100)\n",
    "    \n",
    "    start_time = time.time()\n",
    "    model.fit(x, y)\n",
    "    end_time = time.time()\n",
    "    return f'{model_name}: 소요시간: {(end_time - start_time)} 초'\n",
    "\n",
    "xgb = XGBRegressor(n_estimators=1000, \n",
    "                   learning_rate=0.01, \n",
    "                   subsample=0.8, \n",
    "                   colsample_bytree=0.8,\n",
    "                   objective='reg:squarederror', \n",
    "                  )\n",
    "\n",
    "print(model_test('xgb (cpu)', xgb))"
   ],
   "metadata": {
    "collapsed": false,
    "pycharm": {
     "name": "#%%\n"
    }
   }
  },
  {
   "cell_type": "code",
   "execution_count": null,
   "outputs": [],
   "source": [
    "xgb = XGBRegressor(n_estimators=1000, \n",
    "                   learning_rate=0.01, \n",
    "                   subsample=0.8, \n",
    "                   colsample_bytree=0.8,\n",
    "                   objective='reg:squarederror', \n",
    "                   tree_method='gpu_hist')\n",
    "\n",
    "print(model_test('xgb (gpu)', xgb))"
   ],
   "metadata": {
    "collapsed": false,
    "pycharm": {
     "name": "#%%\n"
    }
   }
  }
 ],
 "metadata": {
  "kernelspec": {
   "display_name": "Python 3 (ipykernel)",
   "language": "python",
   "name": "python3"
  },
  "language_info": {
   "codemirror_mode": {
    "name": "ipython",
    "version": 3
   },
   "file_extension": ".py",
   "mimetype": "text/x-python",
   "name": "python",
   "nbconvert_exporter": "python",
   "pygments_lexer": "ipython3",
   "version": "3.9.12"
  }
 },
 "nbformat": 4,
 "nbformat_minor": 5
}